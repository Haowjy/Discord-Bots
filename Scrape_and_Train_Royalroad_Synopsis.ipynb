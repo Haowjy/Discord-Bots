{
  "nbformat": 4,
  "nbformat_minor": 0,
  "metadata": {
    "colab": {
      "name": "Scrape and Train Royalroad Synopsis.ipynb",
      "provenance": [],
      "collapsed_sections": [],
      "authorship_tag": "ABX9TyOGEs33Dhw4nR38Rbt2dJ9V",
      "include_colab_link": true
    },
    "kernelspec": {
      "name": "python3",
      "display_name": "Python 3"
    }
  },
  "cells": [
    {
      "cell_type": "markdown",
      "metadata": {
        "id": "view-in-github",
        "colab_type": "text"
      },
      "source": [
        "<a href=\"https://colab.research.google.com/github/Haowjy/Discord-Bots/blob/main/Scrape_and_Train_Royalroad_Synopsis.ipynb\" target=\"_parent\"><img src=\"https://colab.research.google.com/assets/colab-badge.svg\" alt=\"Open In Colab\"/></a>"
      ]
    },
    {
      "cell_type": "code",
      "metadata": {
        "id": "w8wMJclAUqaS"
      },
      "source": [
        "import requests\r\n",
        "from bs4 import BeautifulSoup\r\n",
        "import os\r\n",
        "import re"
      ],
      "execution_count": null,
      "outputs": []
    },
    {
      "cell_type": "code",
      "metadata": {
        "id": "g_baffKbUuCJ"
      },
      "source": [
        "# the number of pages, 20 books per page\r\n",
        "# synopsis top 5000\r\n",
        "\r\n",
        "num_pages = int(5000/20)\r\n",
        "\r\n",
        "synopsisFile = open(\"/content/drive/MyDrive/story scrape/Royalroad/royalroad_top_5000_synopsis.txt\",\"w\")\r\n",
        "for i in range(1, num_pages+1):\r\n",
        "    page = requests.get(\"https://www.royalroad.com/fictions/search?page=\"+str(i)+\"&orderBy=popularity\")\r\n",
        "    soup = BeautifulSoup(page.content, 'html.parser')\r\n",
        "\r\n",
        "    title_link_list = soup.find_all('a', class_=\"font-red-sunglo bold\",href=True)\r\n",
        "    descrip_list = soup.find_all('div', class_=\"margin-top-10 col-xs-12\")\r\n",
        "    for j in range(len(title_link_list[:])):\r\n",
        "        book_title = title_link_list[j].text\r\n",
        "\r\n",
        "        descrip = descrip_list[j].text\r\n",
        "\r\n",
        "        synopsisFile.write(\"<|startoftext|>\\n\"+descrip+\"<|endoftext|>\\n\")\r\n",
        "synopsisFile.close()"
      ],
      "execution_count": null,
      "outputs": []
    },
    {
      "cell_type": "markdown",
      "metadata": {
        "id": "vbXFsR3yUbT6"
      },
      "source": [
        "GPT-2 Trained used [gpt-2-simple](https://github.com/minimaxir/gpt-2-simple)"
      ]
    },
    {
      "cell_type": "code",
      "metadata": {
        "id": "vnuUJf-wTrxf"
      },
      "source": [
        "%tensorflow_version 1.x\r\n",
        "!pip install -q gpt-2-simple\r\n",
        "import gpt_2_simple as gpt2\r\n",
        "from datetime import datetime\r\n",
        "from google.colab import files"
      ],
      "execution_count": null,
      "outputs": []
    },
    {
      "cell_type": "code",
      "metadata": {
        "colab": {
          "base_uri": "https://localhost:8080/"
        },
        "id": "494mfa-5UZ1T",
        "outputId": "b45d0213-4386-41ce-be24-fd8ffbfc69e1"
      },
      "source": [
        "gpt2.mount_gdrive()"
      ],
      "execution_count": null,
      "outputs": [
        {
          "output_type": "stream",
          "text": [
            "Mounted at /content/drive\n"
          ],
          "name": "stdout"
        }
      ]
    },
    {
      "cell_type": "code",
      "metadata": {
        "id": "zhhm8fuoU6QJ"
      },
      "source": [
        "# model = \"124M\"\r\n",
        "modelName = \"355M\"\r\n",
        "# model = \"774M\" # cannot be fine-tuned\r\n",
        "gpt2.download_gpt2(model_name=modelName)"
      ],
      "execution_count": null,
      "outputs": []
    },
    {
      "cell_type": "code",
      "metadata": {
        "id": "3XC7Np6RXQ0P"
      },
      "source": [
        "%cp /content/drive/MyDrive/story scrape/Royalroad/royalroad_top_5000_synopsis.txt /content/royalroad_top_5000_synopsis.txt"
      ],
      "execution_count": null,
      "outputs": []
    },
    {
      "cell_type": "code",
      "metadata": {
        "id": "zpJmpH9KU7xq"
      },
      "source": [
        "runName = 'royalroad_top_5000_synopsis'\r\n",
        "#gpt2.copy_file_from_gdrive(runName+\".txt\")"
      ],
      "execution_count": null,
      "outputs": []
    },
    {
      "cell_type": "code",
      "metadata": {
        "id": "YIJNsxuPU9Ix"
      },
      "source": [
        "sess = gpt2.start_tf_sess()\r\n",
        "\r\n",
        "gpt2.finetune(sess,\r\n",
        "              dataset=runName+'.txt',\r\n",
        "              model_name=modelName,\r\n",
        "              steps=300,\r\n",
        "              restore_from='fresh',\r\n",
        "              run_name=runName,\r\n",
        "              print_every=10,\r\n",
        "              sample_every=100,\r\n",
        "              save_every=100\r\n",
        "              )"
      ],
      "execution_count": null,
      "outputs": []
    },
    {
      "cell_type": "code",
      "metadata": {
        "id": "IrauFwXLU-1p"
      },
      "source": [
        "gpt2.copy_checkpoint_to_gdrive(run_name=runName)"
      ],
      "execution_count": null,
      "outputs": []
    },
    {
      "cell_type": "code",
      "metadata": {
        "id": "76AFQF4SU_mx"
      },
      "source": [
        "import tensorflow as tf\r\n",
        "tf.reset_default_graph()\r\n",
        "gpt2.copy_checkpoint_from_gdrive(run_name=runName)"
      ],
      "execution_count": null,
      "outputs": []
    },
    {
      "cell_type": "code",
      "metadata": {
        "id": "Xoo-PJayVAlJ"
      },
      "source": [
        "sess = gpt2.start_tf_sess()\r\n",
        "gpt2.load_gpt2(sess, run_name=runName)"
      ],
      "execution_count": null,
      "outputs": []
    },
    {
      "cell_type": "code",
      "metadata": {
        "id": "rbGHYif7VBsN"
      },
      "source": [
        "gpt2.generate(sess, run_name=runName, return_as_list=True, truncate=\"<|endoftext|>\", nsamples=5, batch_size=5)"
      ],
      "execution_count": null,
      "outputs": []
    }
  ]
}